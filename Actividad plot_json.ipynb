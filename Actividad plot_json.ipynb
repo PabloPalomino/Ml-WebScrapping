{
 "cells": [
  {
   "cell_type": "markdown",
   "id": "7a193334",
   "metadata": {},
   "source": [
    "Ejercicio 0\n",
    "busca un repositorio en donde podamos acceder / descargar contenido json válido:\n",
    "\n",
    "https://github.com/LearnWebCode/json-example\n",
    "https://github.com/lindsaybassett/json/tree/master/chapter03"
   ]
  },
  {
   "cell_type": "markdown",
   "id": "22d2fe59",
   "metadata": {},
   "source": [
    "Ejercicio 1\n",
    "cuando te conectas a una ruta ... es habitual escribir r\"ruta\". ¿qué significa esa r?\n",
    "\n",
    "r significa \"raw\" y hará que las barras invertidas en la cadena se interpreten como barras invertidas reales en lugar de caracteres especiales. (si no se pusiese r una ruta como hola\\nworld significaria realmente \"hola\\nworld\")"
   ]
  },
  {
   "cell_type": "code",
   "execution_count": null,
   "id": "eab7457d",
   "metadata": {},
   "outputs": [],
   "source": [
    "Ejercicio2\n",
    "conéctate a un json y muestra algunos datos en python para probar que funciona"
   ]
  },
  {
   "cell_type": "code",
   "execution_count": null,
   "id": "0224cadd",
   "metadata": {},
   "outputs": [],
   "source": [
    "import pandas as pd\n",
    "pf = pd.read_json()"
   ]
  }
 ],
 "metadata": {
  "kernelspec": {
   "display_name": "Python 3",
   "language": "python",
   "name": "python3"
  },
  "language_info": {
   "codemirror_mode": {
    "name": "ipython",
    "version": 3
   },
   "file_extension": ".py",
   "mimetype": "text/x-python",
   "name": "python",
   "nbconvert_exporter": "python",
   "pygments_lexer": "ipython3",
   "version": "3.8.8"
  }
 },
 "nbformat": 4,
 "nbformat_minor": 5
}
